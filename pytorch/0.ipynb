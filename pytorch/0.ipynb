{
 "cells": [
  {
   "attachments": {},
   "cell_type": "markdown",
   "metadata": {},
   "source": [
    "## Three major issues in Deep Learning:\n",
    "\n",
    "1. Shape mismatch\n",
    "2. Device mismatch\n",
    "3. Data type mismatch"
   ]
  },
  {
   "attachments": {},
   "cell_type": "markdown",
   "metadata": {},
   "source": [
    "| Problem Space | Pre-built datsets and Functions |\n",
    "| --- | --- |\n",
    "| Vision | torchvision.datasets |\n",
    "| Text | torchtext.datasets |\n",
    "| Audio | torchaudio.datasets |\n",
    "| Recommendation system | torchrec.datasets |\n",
    "| Bonus | TorchData* |"
   ]
  },
  {
   "attachments": {},
   "cell_type": "markdown",
   "metadata": {},
   "source": [
    "## Loss curves\n",
    "\n",
    "Refer [this link](https://developers.google.com/machine-learning/testing-debugging/metrics/interpretic).\n",
    "<br/>\n",
    "![Loss curves](./images/loss_curves.png)"
   ]
  }
 ],
 "metadata": {
  "kernelspec": {
   "display_name": "pytorch",
   "language": "python",
   "name": "python3"
  },
  "language_info": {
   "codemirror_mode": {
    "name": "ipython",
    "version": 3
   },
   "file_extension": ".py",
   "mimetype": "text/x-python",
   "name": "python",
   "nbconvert_exporter": "python",
   "pygments_lexer": "ipython3",
   "version": "3.10.10"
  },
  "orig_nbformat": 4
 },
 "nbformat": 4,
 "nbformat_minor": 2
}
