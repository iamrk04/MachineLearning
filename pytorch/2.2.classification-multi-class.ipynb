{
 "cells": [
  {
   "attachments": {},
   "cell_type": "markdown",
   "metadata": {},
   "source": [
    "# Classification - Multi-Class\n",
    "---"
   ]
  },
  {
   "cell_type": "code",
   "execution_count": null,
   "metadata": {},
   "outputs": [],
   "source": [
    "# Check GPU information\n",
    "!nvidia-smi"
   ]
  },
  {
   "cell_type": "code",
   "execution_count": null,
   "metadata": {},
   "outputs": [],
   "source": [
    "import torch\n",
    "from scripts.utils import plot_train_test_loss\n",
    "from torch import nn\n",
    "from pathlib import Path\n",
    "from sklearn.datasets import make_blobs\n",
    "from sklearn.model_selection import train_test_split\n",
    "from sklearn.metrics import accuracy_score\n",
    "import matplotlib.pyplot as plt\n",
    "import pandas as pd\n",
    "\n",
    "\n",
    "DEVICE = \"cuda\" if torch.cuda.is_available() else \"cpu\"\n",
    "RANDOM_SEED = 42"
   ]
  },
  {
   "attachments": {},
   "cell_type": "markdown",
   "metadata": {},
   "source": [
    "## 1. Get data ready (turn into tensor)"
   ]
  },
  {
   "cell_type": "code",
   "execution_count": null,
   "metadata": {},
   "outputs": [],
   "source": [
    "X, y = make_blobs(n_samples=1000, n_features=2, centers=4, cluster_std=1.5, random_state=RANDOM_SEED)\n",
    "X_tensor = torch.from_numpy(X).to(device=DEVICE).to(dtype=torch.float32)\n",
    "y_tensor = torch.from_numpy(y).to(device=DEVICE).to(dtype=torch.long)\n",
    "\n",
    "print(X_tensor.shape, y_tensor.shape)"
   ]
  },
  {
   "cell_type": "code",
   "execution_count": null,
   "metadata": {},
   "outputs": [],
   "source": [
    "plt.scatter(X_tensor[:, 0].cpu().numpy(), X_tensor[:, 1].cpu().numpy(), label=\"Data\", c=y_tensor.cpu().numpy())\n",
    "plt.legend()\n",
    "plt.show()"
   ]
  },
  {
   "cell_type": "code",
   "execution_count": null,
   "metadata": {},
   "outputs": [],
   "source": [
    "# Train test split\n",
    "\n",
    "X_train, X_test, y_train, y_test = train_test_split(X_tensor, y_tensor, test_size=0.2, random_state=RANDOM_SEED)\n",
    "print(len(X_train), len(X_test), len(y_train), len(y_test))"
   ]
  },
  {
   "attachments": {},
   "cell_type": "markdown",
   "metadata": {},
   "source": [
    "## 2. Build or pick a pretrained model for training"
   ]
  },
  {
   "cell_type": "code",
   "execution_count": null,
   "metadata": {},
   "outputs": [],
   "source": [
    "class MultiClassifier(nn.Module):\n",
    "  def __init__(self, in_features, out_features):\n",
    "    super().__init__()\n",
    "    self.model = nn.Sequential(\n",
    "        nn.Linear(in_features=in_features, out_features=10),\n",
    "        nn.ReLU(),\n",
    "        nn.Linear(in_features=10, out_features=15),\n",
    "        nn.ReLU(),\n",
    "        nn.Linear(in_features=15, out_features=out_features)\n",
    "    ).to(device=DEVICE)\n",
    "  \n",
    "  def forward(self, X):\n",
    "    return self.model(X)\n",
    "\n",
    "\n",
    "model = MultiClassifier(in_features=2, out_features=4)\n",
    "model.to(device=DEVICE)"
   ]
  },
  {
   "attachments": {},
   "cell_type": "markdown",
   "metadata": {},
   "source": [
    "### 2.1 Pick loss function and optimizer"
   ]
  },
  {
   "cell_type": "code",
   "execution_count": null,
   "metadata": {},
   "outputs": [],
   "source": [
    "loss_fn = nn.CrossEntropyLoss()\n",
    "optimizer = torch.optim.SGD(params=model.parameters(), lr=0.01)"
   ]
  },
  {
   "attachments": {},
   "cell_type": "markdown",
   "metadata": {},
   "source": [
    "### 2.2 Build a training loop to train the model"
   ]
  },
  {
   "cell_type": "code",
   "execution_count": null,
   "metadata": {},
   "outputs": [],
   "source": [
    "torch.manual_seed(RANDOM_SEED)\n",
    "\n",
    "EPOCHS = 500\n",
    "epoch_count = []\n",
    "train_loss = []\n",
    "test_loss = []\n",
    "test_accuracy = []\n",
    "\n",
    "for epoch in range(EPOCHS):\n",
    "  epoch_count.append(epoch)\n",
    "\n",
    "  # train\n",
    "  model.train()\n",
    "  y_logit = model(X_train)\n",
    "  y_prob = torch.softmax(y_logit, dim=1)\n",
    "  y_pred = y_prob.argmax(dim=1)\n",
    "  loss = loss_fn(y_logit, y_train)\n",
    "  train_loss.append(loss)\n",
    "  optimizer.zero_grad()\n",
    "  loss.backward()\n",
    "  optimizer.step()\n",
    "\n",
    "  # evaluate\n",
    "  model.eval()\n",
    "  with torch.inference_mode():\n",
    "    y_logit = model(X_test)\n",
    "    y_prob = torch.softmax(y_logit, dim=1)\n",
    "    y_pred = y_prob.argmax(dim=1)\n",
    "    loss = loss_fn(y_logit, y_test)\n",
    "    test_loss.append(loss)\n",
    "    acc = accuracy_score(y_test.cpu().numpy(), y_pred.cpu().numpy())\n",
    "    test_accuracy.append(acc)\n",
    "\n",
    "plot_train_test_loss(epoch_count, train_loss, test_loss, test_accuracy)"
   ]
  },
  {
   "attachments": {},
   "cell_type": "markdown",
   "metadata": {},
   "source": [
    "## 3. Make prediction"
   ]
  },
  {
   "cell_type": "code",
   "execution_count": null,
   "metadata": {},
   "outputs": [],
   "source": [
    "model.eval()\n",
    "with torch.inference_mode():\n",
    "  y_logit = model(X_test)\n",
    "  y_prob = torch.softmax(y_logit, dim=1)\n",
    "  y_pred = y_prob.argmax(dim=1)\n",
    "  loss = loss_fn(y_logit, y_test)\n",
    "  acc = accuracy_score(y_test.cpu().numpy(), y_pred.cpu().numpy())\n",
    "\n",
    "print(f\"Loss: {loss}\")\n",
    "print(f\"Accuracy: {acc}\")"
   ]
  },
  {
   "cell_type": "code",
   "execution_count": null,
   "metadata": {},
   "outputs": [],
   "source": [
    "# Special plot function for classification\n",
    "def plot_predictions(\n",
    "    X_train=X_train,\n",
    "    X_test=X_test,\n",
    "    y_train=y_train,\n",
    "    y_test=y_test,\n",
    "    y_pred=None\n",
    "):\n",
    "  X_train = X_train.cpu().numpy()\n",
    "  X_test = X_test.cpu().numpy()\n",
    "  y_train = y_train.cpu().numpy()\n",
    "  y_test = y_test.cpu().numpy()\n",
    "  if y_pred is not None:\n",
    "    y_pred = y_pred.cpu().numpy()\n",
    "  plt.scatter(X_train[:, 0], X_train[:, 1], c=y_train)\n",
    "  plt.scatter(X_test[:, 0], X_test[:, 1], c=y_test)\n",
    "  if y_pred is not None:\n",
    "    plt.scatter(X_test[:, 0], X_test[:, 1], c=y_pred)\n",
    "\n",
    "plot_predictions(y_pred=y_pred)"
   ]
  },
  {
   "attachments": {},
   "cell_type": "markdown",
   "metadata": {},
   "source": [
    "## 4. Evaluate the model"
   ]
  },
  {
   "attachments": {},
   "cell_type": "markdown",
   "metadata": {},
   "source": [
    "## 5. Improve through experimentation"
   ]
  },
  {
   "attachments": {},
   "cell_type": "markdown",
   "metadata": {},
   "source": [
    "## 6. Save and reload trained model"
   ]
  },
  {
   "cell_type": "code",
   "execution_count": null,
   "metadata": {},
   "outputs": [],
   "source": [
    "# Save the model\n",
    "\n",
    "model_folder = Path(\"models\")\n",
    "model_folder.mkdir(parents=True, exist_ok=True)\n",
    "model_name = \"classification_multi_class_pytorch.pt\"\n",
    "model_path = model_folder / model_name\n",
    "\n",
    "model.to(device=DEVICE)\n",
    "torch.save(obj=model.state_dict(), f=model_path)"
   ]
  },
  {
   "cell_type": "code",
   "execution_count": null,
   "metadata": {},
   "outputs": [],
   "source": [
    "# Load the model\n",
    "\n",
    "loaded_model = MultiClassifier(in_features=2, out_features=4)\n",
    "loaded_model.load_state_dict(torch.load(f=model_path))\n",
    "loaded_model.to(device=DEVICE)\n",
    "loaded_model.state_dict()"
   ]
  },
  {
   "cell_type": "code",
   "execution_count": null,
   "metadata": {},
   "outputs": [],
   "source": [
    "# Verify if the loading worked correctly\n",
    "\n",
    "model.eval()\n",
    "with torch.inference_mode():\n",
    "  loaded_y_logit = model(X_test)\n",
    "  loaded_y_prob = torch.softmax(loaded_y_logit, dim=1)\n",
    "  loaded_y_pred = loaded_y_prob.argmax(dim=1)\n",
    "  loaded_loss = loss_fn(loaded_y_logit, y_test)\n",
    "\n",
    "print(y_prob == loaded_y_prob)\n",
    "print(loaded_loss == loss)"
   ]
  }
 ],
 "metadata": {
  "kernelspec": {
   "display_name": "pytorch",
   "language": "python",
   "name": "python3"
  },
  "language_info": {
   "codemirror_mode": {
    "name": "ipython",
    "version": 3
   },
   "file_extension": ".py",
   "mimetype": "text/x-python",
   "name": "python",
   "nbconvert_exporter": "python",
   "pygments_lexer": "ipython3",
   "version": "3.10.10"
  },
  "orig_nbformat": 4
 },
 "nbformat": 4,
 "nbformat_minor": 2
}
