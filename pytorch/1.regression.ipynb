{
 "cells": [
  {
   "attachments": {},
   "cell_type": "markdown",
   "metadata": {},
   "source": [
    "# Regression\n",
    "---"
   ]
  },
  {
   "cell_type": "code",
   "execution_count": null,
   "metadata": {},
   "outputs": [],
   "source": [
    "# Check GPU information\n",
    "!nvidia-smi"
   ]
  },
  {
   "cell_type": "code",
   "execution_count": null,
   "metadata": {},
   "outputs": [],
   "source": [
    "import torch\n",
    "from scripts.util import plot_predictions, plot_train_test_loss\n",
    "from torch import nn\n",
    "from pathlib import Path\n",
    "\n",
    "\n",
    "DEVICE = \"cuda\" if torch.cuda.is_available() else \"cpu\"\n",
    "RANDOM_SEED = 42"
   ]
  },
  {
   "attachments": {},
   "cell_type": "markdown",
   "metadata": {},
   "source": [
    "## 1. Get data ready (turn into tensor)"
   ]
  },
  {
   "cell_type": "code",
   "execution_count": null,
   "metadata": {},
   "outputs": [],
   "source": [
    "weight, bias = 0.3, 0.9\n",
    "\n",
    "X = torch.arange(0, 1, 0.01, device=DEVICE, dtype=torch.float32).unsqueeze(dim=1)\n",
    "train_split = int(0.8 * len(X))\n",
    "X_train, X_test = X[:train_split], X[train_split:]\n",
    "\n",
    "y = X * weight + bias\n",
    "y_train, y_test = y[:train_split], y[train_split:]\n",
    "\n",
    "plot_predictions(X_train, y_train, X_test, y_test)"
   ]
  },
  {
   "attachments": {},
   "cell_type": "markdown",
   "metadata": {},
   "source": [
    "## 2. Build or pick a pretrained model for training"
   ]
  },
  {
   "cell_type": "code",
   "execution_count": null,
   "metadata": {},
   "outputs": [],
   "source": [
    "class LinearRegressionV2(nn.Module):\n",
    "  def __init__(self):\n",
    "    super().__init__()\n",
    "    self.linear_layer = nn.Linear(in_features=1, out_features=1)\n",
    "\n",
    "  def forward(self, X):\n",
    "    return self.linear_layer(X)\n",
    "\n",
    "\n",
    "model = LinearRegressionV2()\n",
    "model.to(DEVICE)\n",
    "model.state_dict()"
   ]
  },
  {
   "attachments": {},
   "cell_type": "markdown",
   "metadata": {},
   "source": [
    "### 2.1 Pick loss function and optimizer"
   ]
  },
  {
   "cell_type": "code",
   "execution_count": null,
   "metadata": {},
   "outputs": [],
   "source": [
    "loss_fn = nn.L1Loss()\n",
    "\n",
    "optimizer = torch.optim.SGD(\n",
    "    params=model.parameters(),\n",
    "    lr=0.01\n",
    ")"
   ]
  },
  {
   "attachments": {},
   "cell_type": "markdown",
   "metadata": {},
   "source": [
    "### 2.2 Build a training loop to train the model"
   ]
  },
  {
   "cell_type": "code",
   "execution_count": null,
   "metadata": {},
   "outputs": [],
   "source": [
    "torch.manual_seed(RANDOM_SEED)\n",
    "\n",
    "EPOCHS = 500\n",
    "epoch_count = []\n",
    "train_loss = []\n",
    "test_loss = []\n",
    "\n",
    "for epoch in range(EPOCHS):\n",
    "  epoch_count.append(epoch)\n",
    "\n",
    "  # train\n",
    "  model.train()\n",
    "  y_pred = model(X_train)\n",
    "  loss = loss_fn(y_pred, y_train)\n",
    "  train_loss.append(loss)\n",
    "  optimizer.zero_grad()\n",
    "  loss.backward()\n",
    "  optimizer.step()\n",
    "  \n",
    "  # evaluate\n",
    "  model.eval()\n",
    "  with torch.inference_mode():\n",
    "    y_pred = model(X_test)\n",
    "    loss = loss_fn(y_pred, y_test)\n",
    "    test_loss.append(loss)\n",
    "\n",
    "print(model.state_dict())\n",
    "print(weight, bias)\n",
    "\n",
    "plot_train_test_loss(epoch_count, train_loss, test_loss)"
   ]
  },
  {
   "attachments": {},
   "cell_type": "markdown",
   "metadata": {},
   "source": [
    "## 3. Make prediction"
   ]
  },
  {
   "cell_type": "code",
   "execution_count": null,
   "metadata": {},
   "outputs": [],
   "source": [
    "model.eval()\n",
    "with torch.inference_mode():\n",
    "  y_pred = model(X_test)\n",
    "  loss = loss_fn(y_pred, y_test)\n",
    "\n",
    "print(f\"Loss: {loss}\")\n",
    "plot_predictions(X_train, y_train, X_test, y_test, y_pred)"
   ]
  },
  {
   "attachments": {},
   "cell_type": "markdown",
   "metadata": {},
   "source": [
    "## 4. Evaluate the model"
   ]
  },
  {
   "attachments": {},
   "cell_type": "markdown",
   "metadata": {},
   "source": [
    "## 5. Improve through experimentation"
   ]
  },
  {
   "attachments": {},
   "cell_type": "markdown",
   "metadata": {},
   "source": [
    "## 6. Save and reload trained model"
   ]
  },
  {
   "cell_type": "code",
   "execution_count": null,
   "metadata": {},
   "outputs": [],
   "source": [
    "# Save the model\n",
    "\n",
    "model_folder = Path(\"models\")\n",
    "model_folder.mkdir(parents=True, exist_ok=True)\n",
    "model_name = \"linear_reg_pytorch.pt\"\n",
    "model_path = model_folder / model_name\n",
    "\n",
    "model.to(device=DEVICE)\n",
    "torch.save(obj=model.state_dict(), f=model_path)"
   ]
  },
  {
   "cell_type": "code",
   "execution_count": null,
   "metadata": {},
   "outputs": [],
   "source": [
    "# Load the model\n",
    "\n",
    "loaded_model = LinearRegressionV2()\n",
    "loaded_model.load_state_dict(torch.load(f=model_path))\n",
    "loaded_model.to(device=DEVICE)\n",
    "loaded_model.state_dict()"
   ]
  },
  {
   "cell_type": "code",
   "execution_count": null,
   "metadata": {},
   "outputs": [],
   "source": [
    "# Verify if the loading worked correctly\n",
    "\n",
    "model.eval()\n",
    "with torch.inference_mode():\n",
    "  loaded_y_pred = model(X_test)\n",
    "  loaded_loss = loss_fn(y_pred, y_test)\n",
    "\n",
    "print(y_pred == loaded_y_pred)\n",
    "print(loaded_loss == loss)"
   ]
  }
 ],
 "metadata": {
  "kernelspec": {
   "display_name": "pytorch",
   "language": "python",
   "name": "python3"
  },
  "language_info": {
   "codemirror_mode": {
    "name": "ipython",
    "version": 3
   },
   "file_extension": ".py",
   "mimetype": "text/x-python",
   "name": "python",
   "nbconvert_exporter": "python",
   "pygments_lexer": "ipython3",
   "version": "3.10.10"
  },
  "orig_nbformat": 4
 },
 "nbformat": 4,
 "nbformat_minor": 2
}
