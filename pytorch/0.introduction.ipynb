{
 "cells": [
  {
   "attachments": {},
   "cell_type": "markdown",
   "metadata": {},
   "source": [
    "## Three most common errors in PyTorch:\n",
    "\n",
    "1. Shape mismatch\n",
    "2. Device mismatch\n",
    "3. Data type mismatch"
   ]
  },
  {
   "attachments": {},
   "cell_type": "markdown",
   "metadata": {},
   "source": [
    "| Problem Space | Pre-built datsets and Functions |\n",
    "| --- | --- |\n",
    "| Vision | torchvision.datasets |\n",
    "| Text | torchtext.datasets |\n",
    "| Audio | torchaudio.datasets |\n",
    "| Recommendation system | torchrec.datasets |\n",
    "| Bonus | TorchData* |"
   ]
  },
  {
   "attachments": {},
   "cell_type": "markdown",
   "metadata": {},
   "source": [
    "## Loss curves\n",
    "\n",
    "Refer [this link](https://developers.google.com/machine-learning/testing-debugging/metrics/interpretic).\n",
    "<br/>\n",
    "![Loss curves](./images/loss_curves.png)"
   ]
  },
  {
   "attachments": {},
   "cell_type": "markdown",
   "metadata": {},
   "source": [
    "## Points to note:\n",
    "\n",
    "- When you're first approaching a machine learning problem: **always** start small and if something works, scale it up. Your first batch of experiments should take no longer than a few seconds to a few minutes to run. The quicker you can experiment, the faster you can work out what doesn't work."
   ]
  },
  {
   "attachments": {},
   "cell_type": "markdown",
   "metadata": {},
   "source": [
    "## Torch Basics"
   ]
  },
  {
   "cell_type": "markdown",
   "metadata": {},
   "source": [
    "### Scalar, Vector, Matrix, Tensor"
   ]
  },
  {
   "cell_type": "code",
   "execution_count": 1,
   "metadata": {},
   "outputs": [
    {
     "name": "stdout",
     "output_type": "stream",
     "text": [
      "-----------------SCALAR-----------------\n",
      "scalar => tensor(7)\n",
      "item => 7\n",
      "ndim => 0\n",
      "shape => torch.Size([])\n",
      "-----------------VECTOR-----------------\n",
      "vector => tensor([1, 2])\n",
      "ndim => 1\n",
      "shape => torch.Size([2])\n",
      "-----------------MATRIX-----------------\n",
      "matrix => tensor([[1, 2],\n",
      "        [3, 4]])\n",
      "ndim => 2\n",
      "shape => torch.Size([2, 2])\n",
      "-----------------TENSOR-----------------\n",
      "tensor => tensor([[[1, 2, 1],\n",
      "         [3, 4, 3]],\n",
      "\n",
      "        [[4, 5, 4],\n",
      "         [6, 7, 6]]])\n",
      "ndim => 3\n",
      "shape => torch.Size([2, 2, 3])\n",
      "tensor([[1, 2, 1],\n",
      "        [3, 4, 3]])\n",
      "-------------Random TENSOR-------------\n",
      "random_tensor => tensor([[0.8447, 0.4880, 0.3170, 0.6027],\n",
      "        [0.3176, 0.3862, 0.3130, 0.7451],\n",
      "        [0.3243, 0.1313, 0.5807, 0.6017]])\n",
      "ndim => 2\n",
      "shape => torch.Size([3, 4])\n"
     ]
    }
   ],
   "source": [
    "import torch\n",
    "\n",
    "# Scalar\n",
    "print(\"-----------------SCALAR-----------------\")\n",
    "scalar = torch.tensor(7)\n",
    "print(\"scalar =>\", scalar)\n",
    "print(\"item =>\", scalar.item())\n",
    "print(\"ndim =>\", scalar.ndim)\n",
    "print(\"shape =>\", scalar.shape)\n",
    "\n",
    "# Vector\n",
    "print(\"-----------------VECTOR-----------------\")\n",
    "vector = torch.tensor([1, 2])\n",
    "print(\"vector =>\", vector)\n",
    "print(\"ndim =>\", vector.ndim)\n",
    "print(\"shape =>\", vector.shape)\n",
    "\n",
    "# Matrix\n",
    "print(\"-----------------MATRIX-----------------\")\n",
    "MATRIX = torch.tensor([\n",
    "    [1, 2],\n",
    "    [3, 4]\n",
    "])\n",
    "print(\"matrix =>\", MATRIX)\n",
    "print(\"ndim =>\", MATRIX.ndim)\n",
    "print(\"shape =>\", MATRIX.shape)\n",
    "\n",
    "# Tensor\n",
    "print(\"-----------------TENSOR-----------------\")\n",
    "TENSOR = torch.tensor([\n",
    "    [\n",
    "      [1, 2, 1],\n",
    "      [3, 4, 3]\n",
    "    ],\n",
    "    [\n",
    "      [4, 5, 4],\n",
    "      [6, 7, 6]\n",
    "    ]\n",
    "])\n",
    "print(\"tensor =>\", TENSOR)\n",
    "print(\"ndim =>\", TENSOR.ndim)\n",
    "print(\"shape =>\", TENSOR.shape)\n",
    "print(TENSOR[0])\n",
    "\n",
    "# Random TENSOR\n",
    "print(\"-------------Random TENSOR-------------\")\n",
    "random_tensor = torch.rand(3, 4)\n",
    "print(\"random_tensor =>\", random_tensor)\n",
    "print(\"ndim =>\", random_tensor.ndim)\n",
    "print(\"shape =>\", random_tensor.shape)"
   ]
  },
  {
   "attachments": {},
   "cell_type": "markdown",
   "metadata": {},
   "source": [
    "### Methods for creating tensors"
   ]
  },
  {
   "cell_type": "code",
   "execution_count": 2,
   "metadata": {},
   "outputs": [
    {
     "name": "stdout",
     "output_type": "stream",
     "text": [
      "torch.float32\n"
     ]
    },
    {
     "data": {
      "text/plain": [
       "tensor([[0., 0., 0., 0.],\n",
       "        [0., 0., 0., 0.],\n",
       "        [0., 0., 0., 0.]])"
      ]
     },
     "execution_count": 2,
     "metadata": {},
     "output_type": "execute_result"
    }
   ],
   "source": [
    "matrix1 = torch.rand(3, 4)\n",
    "zeros = torch.zeros(3, 4)\n",
    "ones = torch.ones(3, 4)\n",
    "\n",
    "print(zeros.dtype)\n",
    "\n",
    "matrix1 * zeros"
   ]
  },
  {
   "cell_type": "code",
   "execution_count": 3,
   "metadata": {},
   "outputs": [
    {
     "name": "stdout",
     "output_type": "stream",
     "text": [
      "tensor([1, 3, 5, 7, 9])\n",
      "tensor([0, 0, 0, 0, 0])\n"
     ]
    }
   ],
   "source": [
    "tensor_1_2_10 = torch.arange(start=1, end=11, step=2)\n",
    "print(tensor_1_2_10)\n",
    "\n",
    "zeros_like = torch.zeros_like(tensor_1_2_10)\n",
    "print(zeros_like)"
   ]
  },
  {
   "cell_type": "code",
   "execution_count": 4,
   "metadata": {},
   "outputs": [
    {
     "name": "stdout",
     "output_type": "stream",
     "text": [
      "torch.float16\n",
      "torch.float32\n"
     ]
    },
    {
     "data": {
      "text/plain": [
       "tensor([[0.0149, 0.1095, 0.4213, 0.4036],\n",
       "        [0.2675, 0.0276, 0.0862, 0.5308],\n",
       "        [0.7090, 0.1755, 0.6263, 0.4737]])"
      ]
     },
     "execution_count": 4,
     "metadata": {},
     "output_type": "execute_result"
    }
   ],
   "source": [
    "# device=\"cuda\" if gpu available\n",
    "tensor1 = torch.rand(3, 4, dtype=torch.float16, device=\"cpu\")\n",
    "tensor2 = torch.rand(3, 4, dtype=torch.float32, device=\"cpu\")\n",
    "\n",
    "print(tensor1.dtype)\n",
    "print(tensor2.dtype)\n",
    "\n",
    "tensor1 * tensor2"
   ]
  },
  {
   "cell_type": "code",
   "execution_count": 5,
   "metadata": {},
   "outputs": [
    {
     "name": "stdout",
     "output_type": "stream",
     "text": [
      "torch.float64\n"
     ]
    },
    {
     "data": {
      "text/plain": [
       "device(type='cpu')"
      ]
     },
     "execution_count": 5,
     "metadata": {},
     "output_type": "execute_result"
    }
   ],
   "source": [
    "tensor1 = tensor1.type(torch.float64, non_blocking=True)\n",
    "print(tensor1.dtype)\n",
    "\n",
    "tensor1 = tensor1.to(device=\"cpu\", non_blocking=True)\n",
    "tensor1.device"
   ]
  },
  {
   "cell_type": "code",
   "execution_count": 9,
   "metadata": {},
   "outputs": [
    {
     "data": {
      "text/plain": [
       "tensor([[14],\n",
       "        [17]])"
      ]
     },
     "execution_count": 9,
     "metadata": {},
     "output_type": "execute_result"
    }
   ],
   "source": [
    "tensor1 = torch.tensor([[1, 2, 3], [1, 2, 4]])\n",
    "tensor2 = torch.tensor([[1], [2], [3]])\n",
    "\n",
    "tensor1.matmul(tensor2)"
   ]
  },
  {
   "cell_type": "code",
   "execution_count": 10,
   "metadata": {},
   "outputs": [
    {
     "data": {
      "text/plain": [
       "tensor(2.1667)"
      ]
     },
     "execution_count": 10,
     "metadata": {},
     "output_type": "execute_result"
    }
   ],
   "source": [
    "tensor1.mean(dtype=torch.float32)"
   ]
  },
  {
   "cell_type": "code",
   "execution_count": 11,
   "metadata": {},
   "outputs": [
    {
     "data": {
      "text/plain": [
       "tensor(5)"
      ]
     },
     "execution_count": 11,
     "metadata": {},
     "output_type": "execute_result"
    }
   ],
   "source": [
    "tensor1.argmax()"
   ]
  },
  {
   "attachments": {},
   "cell_type": "markdown",
   "metadata": {},
   "source": [
    "### Reshape tensors"
   ]
  },
  {
   "cell_type": "code",
   "execution_count": 12,
   "metadata": {},
   "outputs": [
    {
     "data": {
      "text/plain": [
       "tensor([[ 1,  2,  3,  4,  5],\n",
       "        [ 6,  7,  8,  9, 10]])"
      ]
     },
     "execution_count": 12,
     "metadata": {},
     "output_type": "execute_result"
    }
   ],
   "source": [
    "tensor1 = torch.tensor([1, 2, 3, 4, 5, 6, 7, 8, 9, 10])\n",
    "\n",
    "reshaped_tensor1 = tensor1.reshape(2, 5)\n",
    "reshaped_tensor1"
   ]
  },
  {
   "cell_type": "code",
   "execution_count": 13,
   "metadata": {},
   "outputs": [
    {
     "data": {
      "text/plain": [
       "tensor([[ 1,  2,  3,  4,  5],\n",
       "        [ 6,  7,  8,  9, 10]])"
      ]
     },
     "execution_count": 13,
     "metadata": {},
     "output_type": "execute_result"
    }
   ],
   "source": [
    "view_tensor1 = tensor1.view(2, 5)\n",
    "view_tensor1"
   ]
  },
  {
   "attachments": {},
   "cell_type": "markdown",
   "metadata": {},
   "source": [
    "### Combine tensors"
   ]
  },
  {
   "cell_type": "code",
   "execution_count": 14,
   "metadata": {},
   "outputs": [
    {
     "data": {
      "text/plain": [
       "(tensor([[ 1,  2,  3,  4,  5,  6,  7,  8,  9, 10],\n",
       "         [ 1,  2,  3,  4,  5,  6,  7,  8,  9, 10],\n",
       "         [ 1,  2,  3,  4,  5,  6,  7,  8,  9, 10]]),\n",
       " torch.Size([3, 10]))"
      ]
     },
     "execution_count": 14,
     "metadata": {},
     "output_type": "execute_result"
    }
   ],
   "source": [
    "stacked_tensor = torch.stack([tensor1, tensor1, tensor1], dim=0)\n",
    "stacked_tensor, stacked_tensor.shape"
   ]
  },
  {
   "cell_type": "code",
   "execution_count": 15,
   "metadata": {},
   "outputs": [
    {
     "data": {
      "text/plain": [
       "(tensor([[ 1,  1,  1],\n",
       "         [ 2,  2,  2],\n",
       "         [ 3,  3,  3],\n",
       "         [ 4,  4,  4],\n",
       "         [ 5,  5,  5],\n",
       "         [ 6,  6,  6],\n",
       "         [ 7,  7,  7],\n",
       "         [ 8,  8,  8],\n",
       "         [ 9,  9,  9],\n",
       "         [10, 10, 10]]),\n",
       " torch.Size([10, 3]))"
      ]
     },
     "execution_count": 15,
     "metadata": {},
     "output_type": "execute_result"
    }
   ],
   "source": [
    "stacked_tensor = torch.stack([tensor1, tensor1, tensor1], dim=1)\n",
    "stacked_tensor, stacked_tensor.shape"
   ]
  },
  {
   "cell_type": "code",
   "execution_count": 16,
   "metadata": {},
   "outputs": [
    {
     "data": {
      "text/plain": [
       "(tensor([ 1,  2,  3,  4,  5,  6,  7,  8,  9, 10,  1,  2,  3,  4,  5,  6,  7,  8,\n",
       "          9, 10,  1,  2,  3,  4,  5,  6,  7,  8,  9, 10]),\n",
       " torch.Size([30]))"
      ]
     },
     "execution_count": 16,
     "metadata": {},
     "output_type": "execute_result"
    }
   ],
   "source": [
    "new_tensor = torch.cat([tensor1, tensor1, tensor1])\n",
    "new_tensor, new_tensor.shape"
   ]
  },
  {
   "attachments": {},
   "cell_type": "markdown",
   "metadata": {},
   "source": [
    "### Add/Remove tensor dimension"
   ]
  },
  {
   "cell_type": "code",
   "execution_count": 17,
   "metadata": {},
   "outputs": [
    {
     "data": {
      "text/plain": [
       "(tensor([[ 1],\n",
       "         [ 2],\n",
       "         [ 3],\n",
       "         [ 4],\n",
       "         [ 5],\n",
       "         [ 6],\n",
       "         [ 7],\n",
       "         [ 8],\n",
       "         [ 9],\n",
       "         [10]]),\n",
       " torch.Size([10, 1]))"
      ]
     },
     "execution_count": 17,
     "metadata": {},
     "output_type": "execute_result"
    }
   ],
   "source": [
    "unsqueezed = tensor1.unsqueeze(dim=1)\n",
    "unsqueezed, unsqueezed.shape"
   ]
  },
  {
   "cell_type": "code",
   "execution_count": 18,
   "metadata": {},
   "outputs": [
    {
     "data": {
      "text/plain": [
       "(tensor([ 1,  2,  3,  4,  5,  6,  7,  8,  9, 10]), torch.Size([10]))"
      ]
     },
     "execution_count": 18,
     "metadata": {},
     "output_type": "execute_result"
    }
   ],
   "source": [
    "squeezed = unsqueezed.squeeze()\n",
    "squeezed, squeezed.shape"
   ]
  },
  {
   "attachments": {},
   "cell_type": "markdown",
   "metadata": {},
   "source": [
    "### Reorder tensor dimensions"
   ]
  },
  {
   "cell_type": "code",
   "execution_count": 19,
   "metadata": {},
   "outputs": [
    {
     "data": {
      "text/plain": [
       "(tensor([[[0.8599, 0.0970, 0.9733, 0.5139, 0.5890],\n",
       "          [0.3366, 0.5394, 0.4600, 0.5773, 0.1522],\n",
       "          [0.9060, 0.6984, 0.8639, 0.5572, 0.7409]],\n",
       " \n",
       "         [[0.2316, 0.1701, 0.2129, 0.6462, 0.0536],\n",
       "          [0.1137, 0.3682, 0.4395, 0.5995, 0.4777],\n",
       "          [0.5148, 0.8357, 0.7044, 0.2633, 0.2452]]]),\n",
       " torch.Size([2, 3, 5]))"
      ]
     },
     "execution_count": 19,
     "metadata": {},
     "output_type": "execute_result"
    }
   ],
   "source": [
    "x = torch.rand(2, 3, 5)\n",
    "x, x.shape"
   ]
  },
  {
   "cell_type": "code",
   "execution_count": 20,
   "metadata": {},
   "outputs": [
    {
     "data": {
      "text/plain": [
       "(tensor([[[0.8599, 0.3366, 0.9060],\n",
       "          [0.2316, 0.1137, 0.5148]],\n",
       " \n",
       "         [[0.0970, 0.5394, 0.6984],\n",
       "          [0.1701, 0.3682, 0.8357]],\n",
       " \n",
       "         [[0.9733, 0.4600, 0.8639],\n",
       "          [0.2129, 0.4395, 0.7044]],\n",
       " \n",
       "         [[0.5139, 0.5773, 0.5572],\n",
       "          [0.6462, 0.5995, 0.2633]],\n",
       " \n",
       "         [[0.5890, 0.1522, 0.7409],\n",
       "          [0.0536, 0.4777, 0.2452]]]),\n",
       " torch.Size([5, 2, 3]))"
      ]
     },
     "execution_count": 20,
     "metadata": {},
     "output_type": "execute_result"
    }
   ],
   "source": [
    "x_view = x.permute(2, 0, 1)\n",
    "x_view, x_view.shape"
   ]
  },
  {
   "cell_type": "code",
   "execution_count": 21,
   "metadata": {},
   "outputs": [
    {
     "name": "stdout",
     "output_type": "stream",
     "text": [
      "tensor(9)\n",
      "tensor([[3, 6, 9]])\n"
     ]
    }
   ],
   "source": [
    "import torch\n",
    "\n",
    "x = torch.tensor([[\n",
    "    [1, 2, 3],\n",
    "    [4, 5, 6],\n",
    "    [7, 8, 9]\n",
    "]])\n",
    "print(x[0][2][2])\n",
    "print(x[:, :, 2])"
   ]
  },
  {
   "cell_type": "code",
   "execution_count": 22,
   "metadata": {},
   "outputs": [
    {
     "data": {
      "text/plain": [
       "torch.Size([1, 3, 3])"
      ]
     },
     "execution_count": 22,
     "metadata": {},
     "output_type": "execute_result"
    }
   ],
   "source": [
    "x.shape"
   ]
  },
  {
   "attachments": {},
   "cell_type": "markdown",
   "metadata": {},
   "source": [
    "### Seeding"
   ]
  },
  {
   "cell_type": "code",
   "execution_count": 25,
   "metadata": {},
   "outputs": [
    {
     "name": "stdout",
     "output_type": "stream",
     "text": [
      "tensor([[0.8823, 0.9150, 0.3829],\n",
      "        [0.9593, 0.3904, 0.6009]])\n",
      "tensor([[0.8823, 0.9150, 0.3829],\n",
      "        [0.9593, 0.3904, 0.6009]])\n"
     ]
    }
   ],
   "source": [
    "RANDOM_SEED = 42\n",
    "\n",
    "torch.cuda.manual_seed(RANDOM_SEED)\n",
    "torch.manual_seed(RANDOM_SEED)\n",
    "x = torch.rand(2, 3)\n",
    "torch.manual_seed(RANDOM_SEED)\n",
    "y = torch.rand(2, 3)\n",
    "print(x)\n",
    "print(y)"
   ]
  },
  {
   "attachments": {},
   "cell_type": "markdown",
   "metadata": {},
   "source": [
    "### Device agnostic code"
   ]
  },
  {
   "cell_type": "code",
   "execution_count": null,
   "metadata": {},
   "outputs": [],
   "source": [
    "!nvidia-smi"
   ]
  },
  {
   "cell_type": "code",
   "execution_count": 27,
   "metadata": {},
   "outputs": [
    {
     "name": "stdout",
     "output_type": "stream",
     "text": [
      "False\n",
      "cpu\n"
     ]
    },
    {
     "data": {
      "text/plain": [
       "0"
      ]
     },
     "execution_count": 27,
     "metadata": {},
     "output_type": "execute_result"
    }
   ],
   "source": [
    "print(torch.cuda.is_available())\n",
    "device = \"cuda\" if torch.cuda.is_available() else \"cpu\"\n",
    "print(device)\n",
    "torch.cuda.device_count()"
   ]
  },
  {
   "cell_type": "code",
   "execution_count": 28,
   "metadata": {},
   "outputs": [
    {
     "data": {
      "text/plain": [
       "tensor([[0.4963, 0.7682, 0.0885, 0.1320, 0.3074, 0.6341, 0.4901],\n",
       "        [0.8964, 0.4556, 0.6323, 0.3489, 0.4017, 0.0223, 0.1689],\n",
       "        [0.2939, 0.5185, 0.6977, 0.8000, 0.1610, 0.2823, 0.6816],\n",
       "        [0.9152, 0.3971, 0.8742, 0.4194, 0.5529, 0.9527, 0.0362],\n",
       "        [0.1852, 0.3734, 0.3051, 0.9320, 0.1759, 0.2698, 0.1507],\n",
       "        [0.0317, 0.2081, 0.9298, 0.7231, 0.7423, 0.5263, 0.2437],\n",
       "        [0.5846, 0.0332, 0.1387, 0.2422, 0.8155, 0.7932, 0.2783]])"
      ]
     },
     "execution_count": 28,
     "metadata": {},
     "output_type": "execute_result"
    }
   ],
   "source": [
    "import torch\n",
    "\n",
    "RANDOM_SEED = 0\n",
    "DEVICE = \"cuda\" if torch.cuda.is_available() else \"cpu\"\n",
    "\n",
    "torch.manual_seed(RANDOM_SEED)\n",
    "torch.cuda.manual_seed(RANDOM_SEED)\n",
    "x = torch.rand(7, 7, device=DEVICE)\n",
    "x"
   ]
  },
  {
   "attachments": {},
   "cell_type": "markdown",
   "metadata": {},
   "source": [
    "### Tensor operations"
   ]
  },
  {
   "cell_type": "code",
   "execution_count": 29,
   "metadata": {},
   "outputs": [
    {
     "data": {
      "text/plain": [
       "tensor([[1.5985],\n",
       "        [1.1173],\n",
       "        [1.2741],\n",
       "        [1.6838],\n",
       "        [0.8279],\n",
       "        [1.0347],\n",
       "        [1.2498]])"
      ]
     },
     "execution_count": 29,
     "metadata": {},
     "output_type": "execute_result"
    }
   ],
   "source": [
    "torch.manual_seed(RANDOM_SEED)\n",
    "torch.cuda.manual_seed(RANDOM_SEED)\n",
    "y = torch.rand(1, 7, device=DEVICE)\n",
    "\n",
    "x.matmul(y.T)"
   ]
  },
  {
   "cell_type": "code",
   "execution_count": 30,
   "metadata": {},
   "outputs": [],
   "source": [
    "CUDA_SEED = 1234\n",
    "\n",
    "torch.manual_seed(CUDA_SEED)\n",
    "x = torch.rand(2, 3, device=DEVICE)\n",
    "\n",
    "torch.manual_seed(CUDA_SEED)\n",
    "y = torch.rand(2, 3, device=DEVICE)"
   ]
  },
  {
   "cell_type": "code",
   "execution_count": 31,
   "metadata": {},
   "outputs": [
    {
     "name": "stdout",
     "output_type": "stream",
     "text": [
      "tensor([[0.0290, 0.4019, 0.2598],\n",
      "        [0.3666, 0.0583, 0.7006]])\n",
      "tensor([[0.0290, 0.4019, 0.2598],\n",
      "        [0.3666, 0.0583, 0.7006]])\n"
     ]
    }
   ],
   "source": [
    "print(x)\n",
    "print(y)"
   ]
  },
  {
   "cell_type": "code",
   "execution_count": 32,
   "metadata": {},
   "outputs": [
    {
     "data": {
      "text/plain": [
       "tensor([[0.2299, 0.2161],\n",
       "        [0.2161, 0.6287]])"
      ]
     },
     "execution_count": 32,
     "metadata": {},
     "output_type": "execute_result"
    }
   ],
   "source": [
    "res = x.matmul(y.T)\n",
    "res"
   ]
  },
  {
   "cell_type": "code",
   "execution_count": 33,
   "metadata": {},
   "outputs": [
    {
     "name": "stdout",
     "output_type": "stream",
     "text": [
      "tensor(0.2161) tensor(0.6287)\n",
      "tensor(1) tensor(3)\n"
     ]
    }
   ],
   "source": [
    "print(res.min(), res.max())\n",
    "print(res.argmin(), res.argmax())"
   ]
  },
  {
   "cell_type": "code",
   "execution_count": 34,
   "metadata": {},
   "outputs": [
    {
     "name": "stdout",
     "output_type": "stream",
     "text": [
      "torch.Size([10])\n"
     ]
    }
   ],
   "source": [
    "torch.manual_seed(7)\n",
    "x = torch.rand(1, 1, 1, 10)\n",
    "\n",
    "squeezed = x.squeeze()\n",
    "print(squeezed.shape)"
   ]
  },
  {
   "cell_type": "code",
   "execution_count": 35,
   "metadata": {},
   "outputs": [
    {
     "name": "stdout",
     "output_type": "stream",
     "text": [
      "tensor([[[[0.5349, 0.1988, 0.6592, 0.6569, 0.2328, 0.4251, 0.2071, 0.6297,\n",
      "           0.3653, 0.8513]]]])\n",
      "tensor([0.5349, 0.1988, 0.6592, 0.6569, 0.2328, 0.4251, 0.2071, 0.6297, 0.3653,\n",
      "        0.8513])\n"
     ]
    }
   ],
   "source": [
    "print(x)\n",
    "print(squeezed)"
   ]
  }
 ],
 "metadata": {
  "kernelspec": {
   "display_name": "pytorch",
   "language": "python",
   "name": "python3"
  },
  "language_info": {
   "codemirror_mode": {
    "name": "ipython",
    "version": 3
   },
   "file_extension": ".py",
   "mimetype": "text/x-python",
   "name": "python",
   "nbconvert_exporter": "python",
   "pygments_lexer": "ipython3",
   "version": "3.11.3"
  },
  "orig_nbformat": 4
 },
 "nbformat": 4,
 "nbformat_minor": 2
}
