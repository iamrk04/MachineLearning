{
 "cells": [
  {
   "attachments": {},
   "cell_type": "markdown",
   "metadata": {},
   "source": [
    "## Three most common errors in PyTorch:\n",
    "\n",
    "1. Shape mismatch\n",
    "2. Device mismatch\n",
    "3. Data type mismatch"
   ]
  },
  {
   "attachments": {},
   "cell_type": "markdown",
   "metadata": {},
   "source": [
    "| Problem Space | Pre-built datsets and Functions |\n",
    "| --- | --- |\n",
    "| Vision | torchvision.datasets |\n",
    "| Text | torchtext.datasets |\n",
    "| Audio | torchaudio.datasets |\n",
    "| Recommendation system | torchrec.datasets |\n",
    "| Bonus | TorchData* |"
   ]
  },
  {
   "attachments": {},
   "cell_type": "markdown",
   "metadata": {},
   "source": [
    "## Loss curves\n",
    "\n",
    "Refer [this link](https://developers.google.com/machine-learning/testing-debugging/metrics/interpretic).\n",
    "<br/>\n",
    "![Loss curves](./images/loss_curves.png)"
   ]
  },
  {
   "attachments": {},
   "cell_type": "markdown",
   "metadata": {},
   "source": [
    "## Points to note:\n",
    "\n",
    "- When you're first approaching a machine learning problem: **always** start small and if something works, scale it up. Your first batch of experiments should take no longer than a few seconds to a few minutes to run. The quicker you can experiment, the faster you can work out what doesn't work."
   ]
  },
  {
   "attachments": {},
   "cell_type": "markdown",
   "metadata": {},
   "source": [
    "## Torch Basics"
   ]
  },
  {
   "cell_type": "markdown",
   "metadata": {},
   "source": [
    "### Scalar, Vector, Matrix, Tensor"
   ]
  },
  {
   "cell_type": "code",
   "execution_count": null,
   "metadata": {},
   "outputs": [],
   "source": [
    "import torch\n",
    "\n",
    "# Scalar\n",
    "print(\"-----------------SCALAR-----------------\")\n",
    "scalar = torch.tensor(7)\n",
    "print(\"scalar =>\", scalar)\n",
    "print(\"item =>\", scalar.item())\n",
    "print(\"ndim =>\", scalar.ndim)\n",
    "print(\"shape =>\", scalar.shape)\n",
    "\n",
    "# Vector\n",
    "print(\"-----------------VECTOR-----------------\")\n",
    "vector = torch.tensor([1, 2])\n",
    "print(\"vector =>\", vector)\n",
    "print(\"ndim =>\", vector.ndim)\n",
    "print(\"shape =>\", vector.shape)\n",
    "\n",
    "# Matrix\n",
    "print(\"-----------------MATRIX-----------------\")\n",
    "MATRIX = torch.tensor([\n",
    "    [1, 2],\n",
    "    [3, 4]\n",
    "])\n",
    "print(\"matrix =>\", MATRIX)\n",
    "print(\"ndim =>\", MATRIX.ndim)\n",
    "print(\"shape =>\", MATRIX.shape)\n",
    "\n",
    "# Tensor\n",
    "print(\"-----------------TENSOR-----------------\")\n",
    "TENSOR = torch.tensor([\n",
    "    [\n",
    "      [1, 2, 1],\n",
    "      [3, 4, 3]\n",
    "    ],\n",
    "    [\n",
    "      [4, 5, 4],\n",
    "      [6, 7, 6]\n",
    "    ]\n",
    "])\n",
    "print(\"tensor =>\", TENSOR)\n",
    "print(\"ndim =>\", TENSOR.ndim)\n",
    "print(\"shape =>\", TENSOR.shape)\n",
    "print(TENSOR[0])\n",
    "\n",
    "# Random TENSOR\n",
    "print(\"-------------Random TENSOR-------------\")\n",
    "random_tensor = torch.rand(3, 4)\n",
    "print(\"random_tensor =>\", random_tensor)\n",
    "print(\"ndim =>\", random_tensor.ndim)\n",
    "print(\"shape =>\", random_tensor.shape)"
   ]
  },
  {
   "attachments": {},
   "cell_type": "markdown",
   "metadata": {},
   "source": [
    "### Methods for creating tensors"
   ]
  },
  {
   "cell_type": "code",
   "execution_count": null,
   "metadata": {},
   "outputs": [],
   "source": [
    "matrix1 = torch.rand(3, 4)\n",
    "zeros = torch.zeros(3, 4)\n",
    "ones = torch.ones(3, 4)\n",
    "\n",
    "print(zeros.dtype)\n",
    "\n",
    "matrix1 * zeros"
   ]
  },
  {
   "cell_type": "code",
   "execution_count": null,
   "metadata": {},
   "outputs": [],
   "source": [
    "tensor_1_2_10 = torch.arange(start=1, end=11, step=2)\n",
    "print(tensor_1_2_10)\n",
    "\n",
    "zeros_like = torch.zeros_like(tensor_1_2_10)\n",
    "print(zeros_like)"
   ]
  },
  {
   "cell_type": "code",
   "execution_count": null,
   "metadata": {},
   "outputs": [],
   "source": [
    "# device=\"cuda\" if gpu available\n",
    "tensor1 = torch.rand(3, 4, dtype=torch.float16, device=\"cpu\")\n",
    "tensor2 = torch.rand(3, 4, dtype=torch.float32, device=\"cpu\")\n",
    "\n",
    "print(tensor1.dtype)\n",
    "print(tensor2.dtype)\n",
    "\n",
    "tensor1 * tensor2"
   ]
  },
  {
   "cell_type": "code",
   "execution_count": null,
   "metadata": {},
   "outputs": [],
   "source": [
    "tensor1 = tensor1.type(torch.float64, non_blocking=True)\n",
    "print(tensor1.dtype)\n",
    "\n",
    "tensor1 = tensor1.to(device=\"cpu\", non_blocking=True)\n",
    "tensor1.device"
   ]
  },
  {
   "cell_type": "code",
   "execution_count": null,
   "metadata": {},
   "outputs": [],
   "source": [
    "tensor1 = torch.tensor([[1, 2, 3], [1, 2, 3]])\n",
    "tensor2 = torch.tensor([[1], [2], [3]])\n",
    "\n",
    "tensor1.matmul(tensor2)"
   ]
  },
  {
   "cell_type": "code",
   "execution_count": null,
   "metadata": {},
   "outputs": [],
   "source": [
    "tensor1.mean(dtype=torch.float32)"
   ]
  },
  {
   "cell_type": "code",
   "execution_count": null,
   "metadata": {},
   "outputs": [],
   "source": [
    "tensor1.argmax()"
   ]
  },
  {
   "attachments": {},
   "cell_type": "markdown",
   "metadata": {},
   "source": [
    "### Reshape tensors"
   ]
  },
  {
   "cell_type": "code",
   "execution_count": null,
   "metadata": {},
   "outputs": [],
   "source": [
    "tensor1 = torch.tensor([1, 2, 3, 4, 5, 6, 7, 8, 9, 10])\n",
    "\n",
    "reshaped_tensor1 = tensor1.reshape(2, 5)\n",
    "reshaped_tensor1"
   ]
  },
  {
   "cell_type": "code",
   "execution_count": null,
   "metadata": {},
   "outputs": [],
   "source": [
    "view_tensor1 = tensor1.view(2, 5)\n",
    "view_tensor1"
   ]
  },
  {
   "attachments": {},
   "cell_type": "markdown",
   "metadata": {},
   "source": [
    "### Combine tensors"
   ]
  },
  {
   "cell_type": "code",
   "execution_count": null,
   "metadata": {},
   "outputs": [],
   "source": [
    "stacked_tensor = torch.stack([tensor1, tensor1, tensor1], dim=0)\n",
    "stacked_tensor, stacked_tensor.shape"
   ]
  },
  {
   "cell_type": "code",
   "execution_count": null,
   "metadata": {},
   "outputs": [],
   "source": [
    "stacked_tensor = torch.stack([tensor1, tensor1, tensor1], dim=1)\n",
    "stacked_tensor, stacked_tensor.shape"
   ]
  },
  {
   "cell_type": "code",
   "execution_count": null,
   "metadata": {},
   "outputs": [],
   "source": [
    "new_tensor = torch.cat([tensor1, tensor1, tensor1])\n",
    "new_tensor, new_tensor.shape"
   ]
  },
  {
   "attachments": {},
   "cell_type": "markdown",
   "metadata": {},
   "source": [
    "### Add/Remove tensor dimension"
   ]
  },
  {
   "cell_type": "code",
   "execution_count": null,
   "metadata": {},
   "outputs": [],
   "source": [
    "unsqueezed = tensor1.unsqueeze(dim=1)\n",
    "unsqueezed, unsqueezed.shape"
   ]
  },
  {
   "cell_type": "code",
   "execution_count": null,
   "metadata": {},
   "outputs": [],
   "source": [
    "squeezed = unsqueezed.squeeze()\n",
    "squeezed, squeezed.shape"
   ]
  },
  {
   "attachments": {},
   "cell_type": "markdown",
   "metadata": {},
   "source": [
    "### Reorder tensor dimensions"
   ]
  },
  {
   "cell_type": "code",
   "execution_count": null,
   "metadata": {},
   "outputs": [],
   "source": [
    "x = torch.rand(2, 3, 5)\n",
    "x, x.shape"
   ]
  },
  {
   "cell_type": "code",
   "execution_count": null,
   "metadata": {},
   "outputs": [],
   "source": [
    "x_view = x.permute(2, 0, 1)\n",
    "x_view, x_view.shape"
   ]
  },
  {
   "cell_type": "code",
   "execution_count": null,
   "metadata": {},
   "outputs": [],
   "source": [
    "import torch\n",
    "\n",
    "x = torch.tensor([[\n",
    "    [1, 2, 3],\n",
    "    [4, 5, 6],\n",
    "    [7, 8, 9]\n",
    "]])\n",
    "print(x[0][2][2])\n",
    "print(x[:, :, 2])"
   ]
  },
  {
   "cell_type": "code",
   "execution_count": null,
   "metadata": {},
   "outputs": [],
   "source": [
    "x.shape"
   ]
  },
  {
   "attachments": {},
   "cell_type": "markdown",
   "metadata": {},
   "source": [
    "### Seeding"
   ]
  },
  {
   "cell_type": "code",
   "execution_count": null,
   "metadata": {},
   "outputs": [],
   "source": [
    "RANDOM_SEED = 42\n",
    "\n",
    "torch.cuda.manual_seed(RANDOM_SEED)\n",
    "torch.manual_seed(RANDOM_SEED)\n",
    "x = torch.rand(2, 3)\n",
    "torch.manual_seed(RANDOM_SEED)\n",
    "y = torch.rand(2, 3)\n",
    "print(x)\n",
    "print(y)"
   ]
  },
  {
   "attachments": {},
   "cell_type": "markdown",
   "metadata": {},
   "source": [
    "### Device agnostic code"
   ]
  },
  {
   "cell_type": "code",
   "execution_count": null,
   "metadata": {},
   "outputs": [],
   "source": [
    "!nvidia-smi"
   ]
  },
  {
   "cell_type": "code",
   "execution_count": null,
   "metadata": {},
   "outputs": [],
   "source": [
    "print(torch.cuda.is_available())\n",
    "device = \"cuda\" if torch.cuda.is_available() else \"cpu\"\n",
    "print(device)\n",
    "torch.cuda.device_count()"
   ]
  },
  {
   "cell_type": "code",
   "execution_count": null,
   "metadata": {},
   "outputs": [],
   "source": [
    "import torch\n",
    "\n",
    "RANDOM_SEED = 0\n",
    "DEVICE = \"cuda\" if torch.cuda.is_available() else \"cpu\"\n",
    "\n",
    "torch.manual_seed(RANDOM_SEED)\n",
    "torch.cuda.manual_seed(RANDOM_SEED)\n",
    "x = torch.rand(7, 7, device=DEVICE)\n",
    "x"
   ]
  },
  {
   "attachments": {},
   "cell_type": "markdown",
   "metadata": {},
   "source": [
    "### Tensor operations"
   ]
  },
  {
   "cell_type": "code",
   "execution_count": null,
   "metadata": {},
   "outputs": [],
   "source": [
    "torch.manual_seed(RANDOM_SEED)\n",
    "torch.cuda.manual_seed(RANDOM_SEED)\n",
    "y = torch.rand(1, 7, device=DEVICE)\n",
    "\n",
    "x.matmul(y.T)"
   ]
  },
  {
   "cell_type": "code",
   "execution_count": null,
   "metadata": {},
   "outputs": [],
   "source": [
    "CUDA_SEED = 1234\n",
    "\n",
    "torch.manual_seed(CUDA_SEED)\n",
    "x = torch.rand(2, 3, device=DEVICE)\n",
    "\n",
    "torch.manual_seed(CUDA_SEED)\n",
    "y = torch.rand(2, 3, device=DEVICE)"
   ]
  },
  {
   "cell_type": "code",
   "execution_count": null,
   "metadata": {},
   "outputs": [],
   "source": [
    "print(x)\n",
    "print(y)"
   ]
  },
  {
   "cell_type": "code",
   "execution_count": null,
   "metadata": {},
   "outputs": [],
   "source": [
    "res = x.matmul(y.T)\n",
    "res"
   ]
  },
  {
   "cell_type": "code",
   "execution_count": null,
   "metadata": {},
   "outputs": [],
   "source": [
    "print(res.min(), res.max())\n",
    "print(res.argmin(), res.argmax())"
   ]
  },
  {
   "cell_type": "code",
   "execution_count": null,
   "metadata": {},
   "outputs": [],
   "source": [
    "torch.manual_seed(7)\n",
    "x = torch.rand(1, 1, 1, 10)\n",
    "\n",
    "squeezed = x.squeeze()\n",
    "print(squeezed.shape)"
   ]
  },
  {
   "cell_type": "code",
   "execution_count": null,
   "metadata": {},
   "outputs": [],
   "source": [
    "print(x)\n",
    "print(squeezed)"
   ]
  }
 ],
 "metadata": {
  "kernelspec": {
   "display_name": "pytorch",
   "language": "python",
   "name": "python3"
  },
  "language_info": {
   "codemirror_mode": {
    "name": "ipython",
    "version": 3
   },
   "file_extension": ".py",
   "mimetype": "text/x-python",
   "name": "python",
   "nbconvert_exporter": "python",
   "pygments_lexer": "ipython3",
   "version": "3.10.10"
  },
  "orig_nbformat": 4
 },
 "nbformat": 4,
 "nbformat_minor": 2
}
